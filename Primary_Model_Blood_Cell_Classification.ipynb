{
  "nbformat": 4,
  "nbformat_minor": 0,
  "metadata": {
    "colab": {
      "provenance": []
    },
    "kernelspec": {
      "name": "python3",
      "display_name": "Python 3"
    },
    "language_info": {
      "name": "python"
    },
    "accelerator": "GPU",
    "gpuClass": "standard"
  },
  "cells": [
    {
      "cell_type": "markdown",
      "source": [
        "# Blood Cell Classification Using CNNs and RNNs"
      ],
      "metadata": {
        "id": "-yC5Ik93L_F5"
      }
    },
    {
      "cell_type": "markdown",
      "source": [
        "The model architecture will consist of convolutional neural networks (CNN) and a recurrent neural network (RNN) used for feature extraction and a Fully-Connected Layer used for classification and predicting the final output. A CNN-based architecture would be sufficient for the image classification problem. However, recent research suggests that implementing a RNN for feature extraction in parallel to the CNN results in a mimicry of biological neural networks which learn through sequential data."
      ],
      "metadata": {
        "id": "yBUfLnsiL9iJ"
      }
    },
    {
      "cell_type": "code",
      "execution_count": 1,
      "metadata": {
        "id": "U2Qrj-pALHVA"
      },
      "outputs": [],
      "source": [
        "import torch\n",
        "import torch.nn as nn\n",
        "import torch.nn.functional as F\n",
        "import torch.optim as optim "
      ]
    },
    {
      "cell_type": "markdown",
      "source": [
        "### Transfer Learning with VGG-16 for CNN Branch\n",
        "From a wide range of pre-trained CNNs available, this project will be using the VGG-16 CNN to initialize parameters of the model's first CNN layer through transfer learning. In a past research paper that discussed the recognition of blood cell types using CNNs, two different pre-trained CNN layers were used to supply the first CNN layer with initial parameters. There, the VGG-16 CNN resulted in a higher accuracy compared to the Inceptionv3 network. The VGG-16 CNN has been trained on over 1 million images from ImageNet and has proven to be applicable to a range of other image classification projects through transfer learning"
      ],
      "metadata": {
        "id": "NBBWHWZOOWEG"
      }
    },
    {
      "cell_type": "code",
      "source": [
        "import torchvision.models\n",
        "\n",
        "# vgg16 = torchvision.models.vgg16(pretrained = True)\n",
        "alexnet = torchvision.models.alexnet(pretrained=True)"
      ],
      "metadata": {
        "id": "TdPOgWoBLUXI",
        "colab": {
          "base_uri": "https://localhost:8080/"
        },
        "outputId": "d00e1bd0-df35-4184-d780-5332cae8387a"
      },
      "execution_count": 2,
      "outputs": [
        {
          "output_type": "stream",
          "name": "stderr",
          "text": [
            "/usr/local/lib/python3.9/dist-packages/torchvision/models/_utils.py:208: UserWarning: The parameter 'pretrained' is deprecated since 0.13 and may be removed in the future, please use 'weights' instead.\n",
            "  warnings.warn(\n",
            "/usr/local/lib/python3.9/dist-packages/torchvision/models/_utils.py:223: UserWarning: Arguments other than a weight enum or `None` for 'weights' are deprecated since 0.13 and may be removed in the future. The current behavior is equivalent to passing `weights=AlexNet_Weights.IMAGENET1K_V1`. You can also use `weights=AlexNet_Weights.DEFAULT` to get the most up-to-date weights.\n",
            "  warnings.warn(msg)\n"
          ]
        }
      ]
    },
    {
      "cell_type": "code",
      "source": [
        "torch.manual_seed(1)"
      ],
      "metadata": {
        "colab": {
          "base_uri": "https://localhost:8080/"
        },
        "id": "u_1DTq3SLX9G",
        "outputId": "a499bcc0-520f-4b45-f5bd-fafefc943772"
      },
      "execution_count": 3,
      "outputs": [
        {
          "output_type": "execute_result",
          "data": {
            "text/plain": [
              "<torch._C.Generator at 0x7f5d9448f1d0>"
            ]
          },
          "metadata": {},
          "execution_count": 3
        }
      ]
    },
    {
      "cell_type": "code",
      "source": [
        "#only want the filter weights, not the classifier\n",
        "convalexnet = alexnet.features\n",
        "\n",
        "convalexnet #output channels is 512"
      ],
      "metadata": {
        "id": "xTJGSgnSLghK",
        "colab": {
          "base_uri": "https://localhost:8080/"
        },
        "outputId": "c2c5322e-7802-4152-e3c3-200785795255"
      },
      "execution_count": 4,
      "outputs": [
        {
          "output_type": "execute_result",
          "data": {
            "text/plain": [
              "Sequential(\n",
              "  (0): Conv2d(3, 64, kernel_size=(11, 11), stride=(4, 4), padding=(2, 2))\n",
              "  (1): ReLU(inplace=True)\n",
              "  (2): MaxPool2d(kernel_size=3, stride=2, padding=0, dilation=1, ceil_mode=False)\n",
              "  (3): Conv2d(64, 192, kernel_size=(5, 5), stride=(1, 1), padding=(2, 2))\n",
              "  (4): ReLU(inplace=True)\n",
              "  (5): MaxPool2d(kernel_size=3, stride=2, padding=0, dilation=1, ceil_mode=False)\n",
              "  (6): Conv2d(192, 384, kernel_size=(3, 3), stride=(1, 1), padding=(1, 1))\n",
              "  (7): ReLU(inplace=True)\n",
              "  (8): Conv2d(384, 256, kernel_size=(3, 3), stride=(1, 1), padding=(1, 1))\n",
              "  (9): ReLU(inplace=True)\n",
              "  (10): Conv2d(256, 256, kernel_size=(3, 3), stride=(1, 1), padding=(1, 1))\n",
              "  (11): ReLU(inplace=True)\n",
              "  (12): MaxPool2d(kernel_size=3, stride=2, padding=0, dilation=1, ceil_mode=False)\n",
              ")"
            ]
          },
          "metadata": {},
          "execution_count": 4
        }
      ]
    },
    {
      "cell_type": "markdown",
      "source": [
        "### Main Model\n",
        "\n",
        "**CNN Layers for Feature Extraction**\n",
        "\n",
        "The first branch is the CNN branch used for feature extraction. Multiple layers of CNN and pooling will be used for feature extraction. The kernel matrix that scans over the image pixels will be used to extract features from the image such as edges. Each convolutional layer will be followed by a pooling layer, which will employ *Max or Average Pooling* to reduce the size of the image and extract the dominant features. At the end of the CNN branch, a feature map will be produced to pass to the Fully-Connected Layer.\n",
        "\n",
        "**RNN Layer for Feature Extraction**\n",
        "\n",
        "The RNN branch of the model is used for higher-level feature extraction, by taking advantage of its ability to store memory of previous inputs in cells that can be used to provide context to future data. This project will be using the Gated Recurrent Unit architecture for RNNs, that uses hidden states for high-level feature extraction through the implementation of a Reset and Update Gate.\n",
        "\n",
        "**Fully-Connected Layer**\n",
        "\n",
        "The inputs to the Fully-Connected Layer are the merged features learned from the CNN and RNN branches of the model. These features are then flattened, connected, and passed into the Softmax function for classification. The output will be the predicted label of the blood cell image."
      ],
      "metadata": {
        "id": "D3wcEGFzOdGC"
      }
    },
    {
      "cell_type": "markdown",
      "source": [
        "**Current Progress on the Primary Model**\n",
        "\n",
        "Implementation of Transfer Learning with VGG-16, CNN Branch, and Fully-Connected Layer is complete. \n",
        "\n",
        "Next step is to incorporate the RNN branch parallel to the CNN branch to improve the model."
      ],
      "metadata": {
        "id": "9UyBpwE0fJ3z"
      }
    },
    {
      "cell_type": "code",
      "source": [
        "class cnn_test(nn.Module):\n",
        "    def __init__(self):\n",
        "        super(cnn_test, self).__init__()\n",
        "        self.fc = nn.Linear(256*7*7, 8) #temp sizes, idk what the dimensions should be\n",
        "        #also how many classes are there?\n",
        "\n",
        "    def forward(self, x):\n",
        "        cnnpath = x.view(-1, 256*7*7) #x = x.view(-1, 512*8*8) #maybe this one? but idk dimensions\n",
        "        x=self.fc(cnnpath)\n",
        "        return x"
      ],
      "metadata": {
        "id": "5pXF-iUJRkKD"
      },
      "execution_count": 5,
      "outputs": []
    },
    {
      "cell_type": "code",
      "source": [
        "cnntest = cnn_test()"
      ],
      "metadata": {
        "id": "FMJiUC-9RoUT"
      },
      "execution_count": 6,
      "outputs": []
    },
    {
      "cell_type": "code",
      "source": [
        "use_cuda=False"
      ],
      "metadata": {
        "id": "_72j66quCk3O"
      },
      "execution_count": 7,
      "outputs": []
    },
    {
      "cell_type": "code",
      "source": [
        "from google.colab import drive\n",
        "drive.mount('/content/drive')"
      ],
      "metadata": {
        "colab": {
          "base_uri": "https://localhost:8080/"
        },
        "id": "ROs4kpxfDYSG",
        "outputId": "10571f16-b605-4049-ba63-60ff9e003f5a"
      },
      "execution_count": 8,
      "outputs": [
        {
          "output_type": "stream",
          "name": "stdout",
          "text": [
            "Drive already mounted at /content/drive; to attempt to forcibly remount, call drive.mount(\"/content/drive\", force_remount=True).\n"
          ]
        }
      ]
    },
    {
      "cell_type": "code",
      "source": [
        "import zipfile\n",
        "import os\n",
        "\n",
        "zip_ref = zipfile.ZipFile('/content/drive/MyDrive/APS360 Project Team/Data/Blood_Cell_Dataset_Small_Split.zip', 'r') #Opens the zip file in read mode\n",
        "zip_ref.extractall('/tmp') #Extracts the files into the /tmp folder\n",
        "zip_ref.close()"
      ],
      "metadata": {
        "id": "0HqXHoBPDdKX"
      },
      "execution_count": 9,
      "outputs": []
    },
    {
      "cell_type": "code",
      "source": [
        "import torchvision.transforms as transforms"
      ],
      "metadata": {
        "id": "ySAGgKOaDL6P"
      },
      "execution_count": 10,
      "outputs": []
    },
    {
      "cell_type": "code",
      "source": [
        "transform = transforms.Compose(\n",
        "        [ #resize all images to height and width of 280\n",
        "         transforms.ToTensor()        #transform images to tensors\n",
        "         ])\n",
        "\n",
        "classes = ('basophil', 'neutrophil', 'ig', 'monocyte', \n",
        "               'eosinophil', 'erythroblast', 'lymphocyte', 'platelet')\n",
        "\n",
        "train_data = torchvision.datasets.ImageFolder(\"/tmp/content/Blood_Cell_Dataset_Small_Split/train\", transform=transform)\n",
        "val_data = torchvision.datasets.ImageFolder(\"/tmp/content/Blood_Cell_Dataset_Small_Split/val\", transform=transform)\n",
        "test_data = torchvision.datasets.ImageFolder(\"/tmp/content/Blood_Cell_Dataset_Small_Split/test\", transform=transform)\n",
        "#test_dataset = torchvision.datasets.ImageFolder(test_folder, transform=transform)\n",
        "print(len(train_data), len(val_data), len(test_data))"
      ],
      "metadata": {
        "colab": {
          "base_uri": "https://localhost:8080/"
        },
        "id": "cMCcPzwPDUYP",
        "outputId": "4afadfc4-420a-4b7b-ba26-55c78f034ae4"
      },
      "execution_count": 11,
      "outputs": [
        {
          "output_type": "stream",
          "name": "stdout",
          "text": [
            "1600 200 200\n"
          ]
        }
      ]
    },
    {
      "cell_type": "code",
      "source": [
        "import torch.utils.data"
      ],
      "metadata": {
        "id": "Qahk69i8Dhg1"
      },
      "execution_count": 13,
      "outputs": []
    },
    {
      "cell_type": "code",
      "source": [
        "train_loader = torch.utils.data.DataLoader(train_data, batch_size=10, num_workers=0, shuffle=True)\n",
        "val_loader = torch.utils.data.DataLoader(val_data, batch_size=10, num_workers=0, shuffle=True)\n",
        "test_loader = torch.utils.data.DataLoader(test_data, batch_size=10, num_workers=0, shuffle=True)"
      ],
      "metadata": {
        "id": "W9SJHV6wDmqZ"
      },
      "execution_count": 14,
      "outputs": []
    },
    {
      "cell_type": "code",
      "source": [
        "train_features = []\n",
        "\n",
        "for i in enumerate(train_loader, 0):\n",
        "  dataiter = iter(train_loader)\n",
        "  images, labels = next(dataiter)\n",
        "  # images = images.cuda()\n",
        "  # labels = labels.cuda()\n",
        "  train_features.append([convalexnet(images), labels])"
      ],
      "metadata": {
        "id": "vGA6x-QOaGMy"
      },
      "execution_count": 15,
      "outputs": []
    },
    {
      "cell_type": "code",
      "source": [
        "val_features = []\n",
        "\n",
        "for i in enumerate(val_loader, 0):\n",
        "  dataiter = iter(val_loader)\n",
        "  images, labels = next(dataiter)\n",
        "  # images = images.cuda()\n",
        "  # labels = labels.cuda()\n",
        "  val_features.append([convalexnet(images), labels])"
      ],
      "metadata": {
        "id": "OrXJPPpQaKOy"
      },
      "execution_count": 16,
      "outputs": []
    },
    {
      "cell_type": "code",
      "source": [
        "test_features = []\n",
        "\n",
        "for i in enumerate(test_loader, 0):\n",
        "  dataiter = iter(test_loader)\n",
        "  images, labels = next(dataiter)\n",
        "  # images = images.cuda()\n",
        "  # labels = labels.cuda()\n",
        "  test_features.append([convalexnet(images), labels])"
      ],
      "metadata": {
        "id": "-SxUlfrVaE2w"
      },
      "execution_count": 20,
      "outputs": []
    },
    {
      "cell_type": "code",
      "source": [
        "def get_accuracy_transfer(model, train=True):\n",
        "    \n",
        "    if train == True:\n",
        "      data = train_features\n",
        "    else:\n",
        "      data = val_features\n",
        "\n",
        "    correct = 0\n",
        "    total = 0\n",
        "    for feature in data:\n",
        "        #feature[0] is the features extracted, features[1] is the label\n",
        "        output = model(feature[0])\n",
        "        \n",
        "        #select index with maximum prediction score\n",
        "        pred = output.max(1, keepdim=True)[1]\n",
        "        correct += pred.eq(feature[1].view_as(pred)).sum().item()\n",
        "        total += feature[0].shape[0]\n",
        "    return correct / total"
      ],
      "metadata": {
        "id": "rmLA2EBWaCTA"
      },
      "execution_count": 20,
      "outputs": []
    },
    {
      "cell_type": "code",
      "source": [
        "import time\n",
        "import matplotlib.pyplot as plt\n",
        "\n",
        "\n",
        "def train_transfer(model, data, batch_size=20, lr=0.01, num_epochs=2):\n",
        "\n",
        "    criterion = nn.CrossEntropyLoss()\n",
        "    optimizer = optim.SGD(model.parameters(), lr, momentum=0.9)\n",
        "\n",
        "    iters, losses, train_acc, val_acc = [], [], [], []\n",
        "\n",
        "    # training\n",
        "    n = 0 # the number of iterations\n",
        "    start_time=time.time()\n",
        "    for epoch in range(num_epochs):\n",
        "        mini_b=0\n",
        "        mini_batch_correct = 0\n",
        "        Mini_batch_total = 0\n",
        "        for feature in train_features:\n",
        "\n",
        "            feature[0] = torch.from_numpy(feature[0].detach().numpy())\n",
        "            out = model(feature[0])             # forward pass\n",
        "            loss = criterion(out, feature[1]) # compute the total loss\n",
        "            loss.backward()               # backward pass (compute parameter updates)\n",
        "            optimizer.step()              # make the updates for each parameter\n",
        "            optimizer.zero_grad()         # a clean up step for PyTorch\n",
        "\n",
        "\n",
        "\n",
        "            ##### Mini_batch Accuracy ##### We don't compute accuracy on the whole training set in every iteration!\n",
        "            pred = out.max(1, keepdim=True)[1]\n",
        "            mini_batch_correct = pred.eq(feature[1].view_as(pred)).sum().item()\n",
        "            Mini_batch_total = feature[0].shape[0]\n",
        "            train_acc.append((mini_batch_correct / Mini_batch_total))\n",
        "           ###########################\n",
        "\n",
        "          # save the current training information\n",
        "            iters.append(n)\n",
        "            losses.append(float(loss)/batch_size)             # compute *average* loss\n",
        "            val_acc.append(get_accuracy_transfer(model, train=False))  # compute validation accuracy\n",
        "            n += 1\n",
        "            mini_b += 1\n",
        "            #print(\"Iteration: \",n,'Progress: % 6.2f ' % ((epoch * len(train_loader) + mini_b) / (num_epochs * len(train_loader))*100),'%', \"Time Elapsed: % 6.2f s \" % (time.time()-start_time))\n",
        "\n",
        "\n",
        "        print (\"Epoch %d Finished. \" % epoch ,\"Time per Epoch: % 6.2f s \"% ((time.time()-start_time) / (epoch +1)))\n",
        "\n",
        "\n",
        "    end_time= time.time()\n",
        "    # plotting\n",
        "    plt.title(\"Training Curve\")\n",
        "    plt.plot(iters, losses, label=\"Train\")\n",
        "    plt.xlabel(\"Iterations\")\n",
        "    plt.ylabel(\"Loss\")\n",
        "    plt.show()\n",
        "\n",
        "    plt.title(\"Training Curve\")\n",
        "    plt.plot(iters, train_acc, label=\"Training\")\n",
        "    plt.plot(iters, val_acc, label=\"Validation\")    \n",
        "    plt.xlabel(\"Iterations\")\n",
        "    plt.ylabel(\"Validation Accuracy\")\n",
        "    plt.legend(loc='best')\n",
        "    plt.show()\n",
        "\n",
        "    train_acc.append(get_accuracy_transfer(model, train=True))\n",
        "    print(\"Final Training Accuracy: {}\".format(train_acc[-1]))\n",
        "    print(\"Final Validation Accuracy: {}\".format(val_acc[-1]))\n",
        "    print (\"Total time:  % 6.2f s  Time per Epoch: % 6.2f s \" % ( (end_time-start_time), ((end_time-start_time) / num_epochs) ))\n",
        "    "
      ],
      "metadata": {
        "id": "DIAiO0P3ZytC"
      },
      "execution_count": 25,
      "outputs": []
    },
    {
      "cell_type": "code",
      "source": [
        "train_transfer(cnntest, train_data, 10, ,0.01, 50)"
      ],
      "metadata": {
        "colab": {
          "base_uri": "https://localhost:8080/",
          "height": 1000
        },
        "id": "QjSK6y29TQBB",
        "outputId": "ae59282f-425b-483e-e0e5-d4a9873ec1f9"
      },
      "execution_count": 21,
      "outputs": [
        {
          "output_type": "stream",
          "name": "stdout",
          "text": [
            "Epoch 0 Finished.  Time per Epoch:   0.77 s \n",
            "Epoch 1 Finished.  Time per Epoch:   0.75 s \n",
            "Epoch 2 Finished.  Time per Epoch:   0.75 s \n",
            "Epoch 3 Finished.  Time per Epoch:   0.74 s \n",
            "Epoch 4 Finished.  Time per Epoch:   0.73 s \n",
            "Epoch 5 Finished.  Time per Epoch:   0.73 s \n",
            "Epoch 6 Finished.  Time per Epoch:   0.74 s \n",
            "Epoch 7 Finished.  Time per Epoch:   0.77 s \n",
            "Epoch 8 Finished.  Time per Epoch:   0.79 s \n",
            "Epoch 9 Finished.  Time per Epoch:   0.81 s \n",
            "Epoch 10 Finished.  Time per Epoch:   0.82 s \n",
            "Epoch 11 Finished.  Time per Epoch:   0.82 s \n",
            "Epoch 12 Finished.  Time per Epoch:   0.82 s \n",
            "Epoch 13 Finished.  Time per Epoch:   0.81 s \n",
            "Epoch 14 Finished.  Time per Epoch:   0.81 s \n",
            "Epoch 15 Finished.  Time per Epoch:   0.81 s \n",
            "Epoch 16 Finished.  Time per Epoch:   0.81 s \n",
            "Epoch 17 Finished.  Time per Epoch:   0.81 s \n",
            "Epoch 18 Finished.  Time per Epoch:   0.80 s \n",
            "Epoch 19 Finished.  Time per Epoch:   0.80 s \n",
            "Epoch 20 Finished.  Time per Epoch:   0.80 s \n",
            "Epoch 21 Finished.  Time per Epoch:   0.80 s \n",
            "Epoch 22 Finished.  Time per Epoch:   0.80 s \n",
            "Epoch 23 Finished.  Time per Epoch:   0.80 s \n",
            "Epoch 24 Finished.  Time per Epoch:   0.80 s \n",
            "Epoch 25 Finished.  Time per Epoch:   0.81 s \n",
            "Epoch 26 Finished.  Time per Epoch:   0.82 s \n",
            "Epoch 27 Finished.  Time per Epoch:   0.82 s \n",
            "Epoch 28 Finished.  Time per Epoch:   0.83 s \n",
            "Epoch 29 Finished.  Time per Epoch:   0.82 s \n",
            "Epoch 30 Finished.  Time per Epoch:   0.82 s \n",
            "Epoch 31 Finished.  Time per Epoch:   0.82 s \n",
            "Epoch 32 Finished.  Time per Epoch:   0.82 s \n",
            "Epoch 33 Finished.  Time per Epoch:   0.82 s \n",
            "Epoch 34 Finished.  Time per Epoch:   0.82 s \n",
            "Epoch 35 Finished.  Time per Epoch:   0.81 s \n",
            "Epoch 36 Finished.  Time per Epoch:   0.81 s \n",
            "Epoch 37 Finished.  Time per Epoch:   0.81 s \n",
            "Epoch 38 Finished.  Time per Epoch:   0.81 s \n",
            "Epoch 39 Finished.  Time per Epoch:   0.81 s \n",
            "Epoch 40 Finished.  Time per Epoch:   0.82 s \n",
            "Epoch 41 Finished.  Time per Epoch:   0.83 s \n",
            "Epoch 42 Finished.  Time per Epoch:   0.86 s \n",
            "Epoch 43 Finished.  Time per Epoch:   0.86 s \n",
            "Epoch 44 Finished.  Time per Epoch:   0.86 s \n",
            "Epoch 45 Finished.  Time per Epoch:   0.86 s \n",
            "Epoch 46 Finished.  Time per Epoch:   0.85 s \n",
            "Epoch 47 Finished.  Time per Epoch:   0.85 s \n",
            "Epoch 48 Finished.  Time per Epoch:   0.85 s \n",
            "Epoch 49 Finished.  Time per Epoch:   0.85 s \n"
          ]
        },
        {
          "output_type": "display_data",
          "data": {
            "text/plain": [
              "<Figure size 432x288 with 1 Axes>"
            ],
            "image/png": "[encoded data removed]"
          },
          "metadata": {
            "needs_background": "light"
          }
        },
        {
          "output_type": "display_data",
          "data": {
            "text/plain": [
              "<Figure size 432x288 with 1 Axes>"
            ],
            "image/png": "[encoded data removed]"
          },
          "metadata": {
            "needs_background": "light"
          }
        },
        {
          "output_type": "stream",
          "name": "stdout",
          "text": [
            "Final Training Accuracy: 1.0\n",
            "Final Validation Accuracy: 0.895\n",
            "Total time:   42.53 s  Time per Epoch:   0.85 s \n"
          ]
        }
      ]
    },
    {
      "cell_type": "code",
      "source": [
        "class cnn_test_two(nn.Module):\n",
        "    def __init__(self):\n",
        "        super(cnn_test_two, self).__init__()\n",
        "        self.fc1 = nn.Linear(256*7*7, 64) #temp sizes, idk what the dimensions should be\n",
        "        self.fc2 = nn.Linear(64, 8)\n",
        "\n",
        "    def forward(self, x):\n",
        "        cnnpath = x.view(-1, 256*7*7) #x = x.view(-1, 512*8*8) #maybe this one? but idk dimensions\n",
        "        x = F.relu(self.fc1(cnnpath))\n",
        "        x = self.fc2(x)\n",
        "        return x"
      ],
      "metadata": {
        "id": "Tp48lKMwmXou"
      },
      "execution_count": 22,
      "outputs": []
    },
    {
      "cell_type": "code",
      "source": [
        "cnntest_two = cnn_test_two()\n",
        "\n",
        "train_transfer(cnntest_two, train_data, 10, 0.01, 15)"
      ],
      "metadata": {
        "colab": {
          "base_uri": "https://localhost:8080/",
          "height": 885
        },
        "id": "X5DnwMjZm_qC",
        "outputId": "b6abe98d-2825-43dc-a78f-0a39dbcf0b7a"
      },
      "execution_count": 23,
      "outputs": [
        {
          "output_type": "stream",
          "name": "stdout",
          "text": [
            "Epoch 0 Finished.  Time per Epoch:   3.04 s \n",
            "Epoch 1 Finished.  Time per Epoch:   3.19 s \n",
            "Epoch 2 Finished.  Time per Epoch:   3.22 s \n",
            "Epoch 3 Finished.  Time per Epoch:   3.16 s \n",
            "Epoch 4 Finished.  Time per Epoch:   3.18 s \n",
            "Epoch 5 Finished.  Time per Epoch:   3.45 s \n",
            "Epoch 6 Finished.  Time per Epoch:   3.65 s \n",
            "Epoch 7 Finished.  Time per Epoch:   3.76 s \n",
            "Epoch 8 Finished.  Time per Epoch:   3.88 s \n",
            "Epoch 9 Finished.  Time per Epoch:   3.99 s \n",
            "Epoch 10 Finished.  Time per Epoch:   4.04 s \n",
            "Epoch 11 Finished.  Time per Epoch:   4.10 s \n",
            "Epoch 12 Finished.  Time per Epoch:   4.15 s \n",
            "Epoch 13 Finished.  Time per Epoch:   4.18 s \n",
            "Epoch 14 Finished.  Time per Epoch:   4.23 s \n"
          ]
        },
        {
          "output_type": "display_data",
          "data": {
            "text/plain": [
              "<Figure size 432x288 with 1 Axes>"
            ],
            "image/png": "[encoded data removed]"
          },
          "metadata": {
            "needs_background": "light"
          }
        },
        {
          "output_type": "display_data",
          "data": {
            "text/plain": [
              "<Figure size 432x288 with 1 Axes>"
            ],
            "image/png": "[encoded data removed]"
          },
          "metadata": {
            "needs_background": "light"
          }
        },
        {
          "output_type": "stream",
          "name": "stdout",
          "text": [
            "Final Training Accuracy: 0.2625\n",
            "Final Validation Accuracy: 0.185\n",
            "Total time:   63.38 s  Time per Epoch:   4.23 s \n"
          ]
        }
      ]
    },
    {
      "cell_type": "code",
      "source": [
        "cnntest_three = cnn_test_two()\n",
        "\n",
        "train_transfer(cnntest_two, train_data, 10, 0.001, 25)"
      ],
      "metadata": {
        "colab": {
          "base_uri": "https://localhost:8080/",
          "height": 1000
        },
        "id": "xT_OGS2l2xvt",
        "outputId": "ea14e681-f7e4-47d9-c857-638233e6433a"
      },
      "execution_count": 26,
      "outputs": [
        {
          "output_type": "stream",
          "name": "stdout",
          "text": [
            "Epoch 0 Finished.  Time per Epoch:   3.73 s \n",
            "Epoch 1 Finished.  Time per Epoch:   3.38 s \n",
            "Epoch 2 Finished.  Time per Epoch:   3.37 s \n",
            "Epoch 3 Finished.  Time per Epoch:   3.29 s \n",
            "Epoch 4 Finished.  Time per Epoch:   3.22 s \n",
            "Epoch 5 Finished.  Time per Epoch:   3.18 s \n",
            "Epoch 6 Finished.  Time per Epoch:   3.18 s \n",
            "Epoch 7 Finished.  Time per Epoch:   3.21 s \n",
            "Epoch 8 Finished.  Time per Epoch:   3.18 s \n",
            "Epoch 9 Finished.  Time per Epoch:   3.16 s \n",
            "Epoch 10 Finished.  Time per Epoch:   3.15 s \n",
            "Epoch 11 Finished.  Time per Epoch:   3.17 s \n",
            "Epoch 12 Finished.  Time per Epoch:   3.21 s \n",
            "Epoch 13 Finished.  Time per Epoch:   3.24 s \n",
            "Epoch 14 Finished.  Time per Epoch:   3.23 s \n",
            "Epoch 15 Finished.  Time per Epoch:   3.22 s \n",
            "Epoch 16 Finished.  Time per Epoch:   3.24 s \n",
            "Epoch 17 Finished.  Time per Epoch:   3.22 s \n",
            "Epoch 18 Finished.  Time per Epoch:   3.21 s \n",
            "Epoch 19 Finished.  Time per Epoch:   3.20 s \n",
            "Epoch 20 Finished.  Time per Epoch:   3.21 s \n",
            "Epoch 21 Finished.  Time per Epoch:   3.21 s \n",
            "Epoch 22 Finished.  Time per Epoch:   3.20 s \n",
            "Epoch 23 Finished.  Time per Epoch:   3.19 s \n",
            "Epoch 24 Finished.  Time per Epoch:   3.19 s \n"
          ]
        },
        {
          "output_type": "display_data",
          "data": {
            "text/plain": [
              "<Figure size 432x288 with 1 Axes>"
            ],
            "image/png": "[encoded data removed]"
          },
          "metadata": {
            "needs_background": "light"
          }
        },
        {
          "output_type": "display_data",
          "data": {
            "text/plain": [
              "<Figure size 432x288 with 1 Axes>"
            ],
            "image/png": "[encoded data removed]"
          },
          "metadata": {
            "needs_background": "light"
          }
        },
        {
          "output_type": "stream",
          "name": "stdout",
          "text": [
            "Final Training Accuracy: 0.2625\n",
            "Final Validation Accuracy: 0.185\n",
            "Total time:   79.72 s  Time per Epoch:   3.19 s \n"
          ]
        }
      ]
    },
    {
      "cell_type": "code",
      "source": [
        "cnntest_four = cnn_test()\n",
        "\n",
        "train_transfer(cnntest_four, train_data, 10, 0.001, 30)"
      ],
      "metadata": {
        "colab": {
          "base_uri": "https://localhost:8080/",
          "height": 1000
        },
        "id": "lhMaQurK3bsN",
        "outputId": "432eb20c-9e4b-4b93-b946-88e3b79c0d68"
      },
      "execution_count": 27,
      "outputs": [
        {
          "output_type": "stream",
          "name": "stdout",
          "text": [
            "Epoch 0 Finished.  Time per Epoch:   0.60 s \n",
            "Epoch 1 Finished.  Time per Epoch:   0.59 s \n",
            "Epoch 2 Finished.  Time per Epoch:   0.58 s \n",
            "Epoch 3 Finished.  Time per Epoch:   0.58 s \n",
            "Epoch 4 Finished.  Time per Epoch:   0.58 s \n",
            "Epoch 5 Finished.  Time per Epoch:   0.58 s \n",
            "Epoch 6 Finished.  Time per Epoch:   0.58 s \n",
            "Epoch 7 Finished.  Time per Epoch:   0.58 s \n",
            "Epoch 8 Finished.  Time per Epoch:   0.57 s \n",
            "Epoch 9 Finished.  Time per Epoch:   0.57 s \n",
            "Epoch 10 Finished.  Time per Epoch:   0.57 s \n",
            "Epoch 11 Finished.  Time per Epoch:   0.57 s \n",
            "Epoch 12 Finished.  Time per Epoch:   0.57 s \n",
            "Epoch 13 Finished.  Time per Epoch:   0.57 s \n",
            "Epoch 14 Finished.  Time per Epoch:   0.58 s \n",
            "Epoch 15 Finished.  Time per Epoch:   0.58 s \n",
            "Epoch 16 Finished.  Time per Epoch:   0.59 s \n",
            "Epoch 17 Finished.  Time per Epoch:   0.60 s \n",
            "Epoch 18 Finished.  Time per Epoch:   0.61 s \n",
            "Epoch 19 Finished.  Time per Epoch:   0.62 s \n",
            "Epoch 20 Finished.  Time per Epoch:   0.63 s \n",
            "Epoch 21 Finished.  Time per Epoch:   0.63 s \n",
            "Epoch 22 Finished.  Time per Epoch:   0.63 s \n",
            "Epoch 23 Finished.  Time per Epoch:   0.62 s \n",
            "Epoch 24 Finished.  Time per Epoch:   0.62 s \n",
            "Epoch 25 Finished.  Time per Epoch:   0.62 s \n",
            "Epoch 26 Finished.  Time per Epoch:   0.62 s \n",
            "Epoch 27 Finished.  Time per Epoch:   0.62 s \n",
            "Epoch 28 Finished.  Time per Epoch:   0.62 s \n",
            "Epoch 29 Finished.  Time per Epoch:   0.62 s \n"
          ]
        },
        {
          "output_type": "display_data",
          "data": {
            "text/plain": [
              "<Figure size 432x288 with 1 Axes>"
            ],
            "image/png": "[encoded data removed]"
          },
          "metadata": {
            "needs_background": "light"
          }
        },
        {
          "output_type": "display_data",
          "data": {
            "text/plain": [
              "<Figure size 432x288 with 1 Axes>"
            ],
            "image/png": "[encoded data removed]"
          },
          "metadata": {
            "needs_background": "light"
          }
        },
        {
          "output_type": "stream",
          "name": "stdout",
          "text": [
            "Final Training Accuracy: 1.0\n",
            "Final Validation Accuracy: 0.9\n",
            "Total time:   18.45 s  Time per Epoch:   0.62 s \n"
          ]
        }
      ]
    },
    {
      "cell_type": "code",
      "source": [
        "cnntest_five = cnn_test()\n",
        "\n",
        "train_transfer(cnntest_five, train_data, 10, 0.0005, 15)"
      ],
      "metadata": {
        "colab": {
          "base_uri": "https://localhost:8080/",
          "height": 885
        },
        "id": "w0EltH9H3yxV",
        "outputId": "18f6c60c-78a8-404b-fa4c-6462ddea605f"
      },
      "execution_count": 28,
      "outputs": [
        {
          "output_type": "stream",
          "name": "stdout",
          "text": [
            "Epoch 0 Finished.  Time per Epoch:   0.57 s \n",
            "Epoch 1 Finished.  Time per Epoch:   0.57 s \n",
            "Epoch 2 Finished.  Time per Epoch:   0.58 s \n",
            "Epoch 3 Finished.  Time per Epoch:   0.58 s \n",
            "Epoch 4 Finished.  Time per Epoch:   0.61 s \n",
            "Epoch 5 Finished.  Time per Epoch:   0.64 s \n",
            "Epoch 6 Finished.  Time per Epoch:   0.66 s \n",
            "Epoch 7 Finished.  Time per Epoch:   0.67 s \n",
            "Epoch 8 Finished.  Time per Epoch:   0.68 s \n",
            "Epoch 9 Finished.  Time per Epoch:   0.70 s \n",
            "Epoch 10 Finished.  Time per Epoch:   0.69 s \n",
            "Epoch 11 Finished.  Time per Epoch:   0.68 s \n",
            "Epoch 12 Finished.  Time per Epoch:   0.67 s \n",
            "Epoch 13 Finished.  Time per Epoch:   0.66 s \n",
            "Epoch 14 Finished.  Time per Epoch:   0.65 s \n"
          ]
        },
        {
          "output_type": "display_data",
          "data": {
            "text/plain": [
              "<Figure size 432x288 with 1 Axes>"
            ],
            "image/png": "[encoded data removed]"
          },
          "metadata": {
            "needs_background": "light"
          }
        },
        {
          "output_type": "display_data",
          "data": {
            "text/plain": [
              "<Figure size 432x288 with 1 Axes>"
            ],
            "image/png": "[encoded data removed]"
          },
          "metadata": {
            "needs_background": "light"
          }
        },
        {
          "output_type": "stream",
          "name": "stdout",
          "text": [
            "Final Training Accuracy: 1.0\n",
            "Final Validation Accuracy: 0.895\n",
            "Total time:    9.79 s  Time per Epoch:   0.65 s \n"
          ]
        }
      ]
    },
    {
      "cell_type": "code",
      "source": [
        "print(test_data.class_to_idx)\n",
        "\n",
        "print(test_data.imgs)"
      ],
      "metadata": {
        "colab": {
          "base_uri": "https://localhost:8080/"
        },
        "id": "uKFKuE1n98NZ",
        "outputId": "0dd15d9b-2db1-475e-8580-2e51adfd5291"
      },
      "execution_count": 32,
      "outputs": [
        {
          "output_type": "stream",
          "name": "stdout",
          "text": [
            "{'basophil': 0, 'eosinophil': 1, 'erythroblast': 2, 'ig': 3, 'lymphocyte': 4, 'monocyte': 5, 'neutrophil': 6, 'platelet': 7}\n",
            "[('/tmp/content/Blood_Cell_Dataset_Small_Split/test/basophil/BA_145728.jpg', 0), ('/tmp/content/Blood_Cell_Dataset_Small_Split/test/basophil/BA_196745.jpg', 0), ('/tmp/content/Blood_Cell_Dataset_Small_Split/test/basophil/BA_271501.jpg', 0), ('/tmp/content/Blood_Cell_Dataset_Small_Split/test/basophil/BA_338836.jpg', 0), ('/tmp/content/Blood_Cell_Dataset_Small_Split/test/basophil/BA_372309.jpg', 0), ('/tmp/content/Blood_Cell_Dataset_Small_Split/test/basophil/BA_466566.jpg', 0), ('/tmp/content/Blood_Cell_Dataset_Small_Split/test/basophil/BA_478314.jpg', 0), ('/tmp/content/Blood_Cell_Dataset_Small_Split/test/basophil/BA_624477.jpg', 0), ('/tmp/content/Blood_Cell_Dataset_Small_Split/test/basophil/BA_664643.jpg', 0), ('/tmp/content/Blood_Cell_Dataset_Small_Split/test/basophil/BA_705969.jpg', 0), ('/tmp/content/Blood_Cell_Dataset_Small_Split/test/basophil/BA_84086.jpg', 0), ('/tmp/content/Blood_Cell_Dataset_Small_Split/test/basophil/BA_885582.jpg', 0), ('/tmp/content/Blood_Cell_Dataset_Small_Split/test/basophil/Modified_1112.jpg', 0), ('/tmp/content/Blood_Cell_Dataset_Small_Split/test/basophil/Modified_1454.jpg', 0), ('/tmp/content/Blood_Cell_Dataset_Small_Split/test/basophil/Modified_1563.jpg', 0), ('/tmp/content/Blood_Cell_Dataset_Small_Split/test/basophil/Modified_1600.jpg', 0), ('/tmp/content/Blood_Cell_Dataset_Small_Split/test/basophil/Modified_1716.jpg', 0), ('/tmp/content/Blood_Cell_Dataset_Small_Split/test/basophil/Modified_245.jpg', 0), ('/tmp/content/Blood_Cell_Dataset_Small_Split/test/basophil/Modified_290.jpg', 0), ('/tmp/content/Blood_Cell_Dataset_Small_Split/test/basophil/Modified_415.jpg', 0), ('/tmp/content/Blood_Cell_Dataset_Small_Split/test/basophil/Modified_561.jpg', 0), ('/tmp/content/Blood_Cell_Dataset_Small_Split/test/basophil/Modified_758.jpg', 0), ('/tmp/content/Blood_Cell_Dataset_Small_Split/test/basophil/Modified_789.jpg', 0), ('/tmp/content/Blood_Cell_Dataset_Small_Split/test/basophil/Modified_821.jpg', 0), ('/tmp/content/Blood_Cell_Dataset_Small_Split/test/basophil/Modified_956.jpg', 0), ('/tmp/content/Blood_Cell_Dataset_Small_Split/test/eosinophil/EO_125389.jpg', 1), ('/tmp/content/Blood_Cell_Dataset_Small_Split/test/eosinophil/EO_150200.jpg', 1), ('/tmp/content/Blood_Cell_Dataset_Small_Split/test/eosinophil/EO_163661.jpg', 1), ('/tmp/content/Blood_Cell_Dataset_Small_Split/test/eosinophil/EO_193635.jpg', 1), ('/tmp/content/Blood_Cell_Dataset_Small_Split/test/eosinophil/EO_209177.jpg', 1), ('/tmp/content/Blood_Cell_Dataset_Small_Split/test/eosinophil/EO_24835.jpg', 1), ('/tmp/content/Blood_Cell_Dataset_Small_Split/test/eosinophil/EO_2603.jpg', 1), ('/tmp/content/Blood_Cell_Dataset_Small_Split/test/eosinophil/EO_287859.jpg', 1), ('/tmp/content/Blood_Cell_Dataset_Small_Split/test/eosinophil/EO_301622.jpg', 1), ('/tmp/content/Blood_Cell_Dataset_Small_Split/test/eosinophil/EO_31665.jpg', 1), ('/tmp/content/Blood_Cell_Dataset_Small_Split/test/eosinophil/EO_336031.jpg', 1), ('/tmp/content/Blood_Cell_Dataset_Small_Split/test/eosinophil/EO_355778.jpg', 1), ('/tmp/content/Blood_Cell_Dataset_Small_Split/test/eosinophil/EO_424827.jpg', 1), ('/tmp/content/Blood_Cell_Dataset_Small_Split/test/eosinophil/EO_564456.jpg', 1), ('/tmp/content/Blood_Cell_Dataset_Small_Split/test/eosinophil/EO_627671.jpg', 1), ('/tmp/content/Blood_Cell_Dataset_Small_Split/test/eosinophil/EO_642190.jpg', 1), ('/tmp/content/Blood_Cell_Dataset_Small_Split/test/eosinophil/EO_690193.jpg', 1), ('/tmp/content/Blood_Cell_Dataset_Small_Split/test/eosinophil/EO_706197.jpg', 1), ('/tmp/content/Blood_Cell_Dataset_Small_Split/test/eosinophil/EO_720242.jpg', 1), ('/tmp/content/Blood_Cell_Dataset_Small_Split/test/eosinophil/EO_749176.jpg', 1), ('/tmp/content/Blood_Cell_Dataset_Small_Split/test/eosinophil/EO_814910.jpg', 1), ('/tmp/content/Blood_Cell_Dataset_Small_Split/test/eosinophil/EO_872715.jpg', 1), ('/tmp/content/Blood_Cell_Dataset_Small_Split/test/eosinophil/EO_882772.jpg', 1), ('/tmp/content/Blood_Cell_Dataset_Small_Split/test/eosinophil/EO_923732.jpg', 1), ('/tmp/content/Blood_Cell_Dataset_Small_Split/test/eosinophil/EO_957702.jpg', 1), ('/tmp/content/Blood_Cell_Dataset_Small_Split/test/erythroblast/ERB_151826.jpg', 2), ('/tmp/content/Blood_Cell_Dataset_Small_Split/test/erythroblast/ERB_174666.jpg', 2), ('/tmp/content/Blood_Cell_Dataset_Small_Split/test/erythroblast/ERB_215077.jpg', 2), ('/tmp/content/Blood_Cell_Dataset_Small_Split/test/erythroblast/ERB_258850.jpg', 2), ('/tmp/content/Blood_Cell_Dataset_Small_Split/test/erythroblast/ERB_284076.jpg', 2), ('/tmp/content/Blood_Cell_Dataset_Small_Split/test/erythroblast/ERB_356390.jpg', 2), ('/tmp/content/Blood_Cell_Dataset_Small_Split/test/erythroblast/ERB_392614.jpg', 2), ('/tmp/content/Blood_Cell_Dataset_Small_Split/test/erythroblast/ERB_465842.jpg', 2), ('/tmp/content/Blood_Cell_Dataset_Small_Split/test/erythroblast/ERB_471523.jpg', 2), ('/tmp/content/Blood_Cell_Dataset_Small_Split/test/erythroblast/ERB_527814.jpg', 2), ('/tmp/content/Blood_Cell_Dataset_Small_Split/test/erythroblast/ERB_639472.jpg', 2), ('/tmp/content/Blood_Cell_Dataset_Small_Split/test/erythroblast/ERB_72526.jpg', 2), ('/tmp/content/Blood_Cell_Dataset_Small_Split/test/erythroblast/ERB_941216.jpg', 2), ('/tmp/content/Blood_Cell_Dataset_Small_Split/test/erythroblast/Modified_1151.jpg', 2), ('/tmp/content/Blood_Cell_Dataset_Small_Split/test/erythroblast/Modified_1282.jpg', 2), ('/tmp/content/Blood_Cell_Dataset_Small_Split/test/erythroblast/Modified_1314.jpg', 2), ('/tmp/content/Blood_Cell_Dataset_Small_Split/test/erythroblast/Modified_15.jpg', 2), ('/tmp/content/Blood_Cell_Dataset_Small_Split/test/erythroblast/Modified_196.jpg', 2), ('/tmp/content/Blood_Cell_Dataset_Small_Split/test/erythroblast/Modified_260.jpg', 2), ('/tmp/content/Blood_Cell_Dataset_Small_Split/test/erythroblast/Modified_366.jpg', 2), ('/tmp/content/Blood_Cell_Dataset_Small_Split/test/erythroblast/Modified_590.jpg', 2), ('/tmp/content/Blood_Cell_Dataset_Small_Split/test/erythroblast/Modified_761.jpg', 2), ('/tmp/content/Blood_Cell_Dataset_Small_Split/test/erythroblast/Modified_792.jpg', 2), ('/tmp/content/Blood_Cell_Dataset_Small_Split/test/erythroblast/Modified_821.jpg', 2), ('/tmp/content/Blood_Cell_Dataset_Small_Split/test/erythroblast/Modified_946.jpg', 2), ('/tmp/content/Blood_Cell_Dataset_Small_Split/test/ig/IG_682554.jpg', 3), ('/tmp/content/Blood_Cell_Dataset_Small_Split/test/ig/MMY_114305.jpg', 3), ('/tmp/content/Blood_Cell_Dataset_Small_Split/test/ig/MMY_208188.jpg', 3), ('/tmp/content/Blood_Cell_Dataset_Small_Split/test/ig/MMY_295950.jpg', 3), ('/tmp/content/Blood_Cell_Dataset_Small_Split/test/ig/MMY_337668.jpg', 3), ('/tmp/content/Blood_Cell_Dataset_Small_Split/test/ig/MMY_470624.jpg', 3), ('/tmp/content/Blood_Cell_Dataset_Small_Split/test/ig/MMY_483809.jpg', 3), ('/tmp/content/Blood_Cell_Dataset_Small_Split/test/ig/MMY_675168.jpg', 3), ('/tmp/content/Blood_Cell_Dataset_Small_Split/test/ig/MMY_703140.jpg', 3), ('/tmp/content/Blood_Cell_Dataset_Small_Split/test/ig/MMY_76278.jpg', 3), ('/tmp/content/Blood_Cell_Dataset_Small_Split/test/ig/MMY_909453.jpg', 3), ('/tmp/content/Blood_Cell_Dataset_Small_Split/test/ig/MMY_967908.jpg', 3), ('/tmp/content/Blood_Cell_Dataset_Small_Split/test/ig/MY_382855.jpg', 3), ('/tmp/content/Blood_Cell_Dataset_Small_Split/test/ig/MY_676267.jpg', 3), ('/tmp/content/Blood_Cell_Dataset_Small_Split/test/ig/MY_763974.jpg', 3), ('/tmp/content/Blood_Cell_Dataset_Small_Split/test/ig/MY_773612.jpg', 3), ('/tmp/content/Blood_Cell_Dataset_Small_Split/test/ig/MY_830761.jpg', 3), ('/tmp/content/Blood_Cell_Dataset_Small_Split/test/ig/MY_956653.jpg', 3), ('/tmp/content/Blood_Cell_Dataset_Small_Split/test/ig/MY_978739.jpg', 3), ('/tmp/content/Blood_Cell_Dataset_Small_Split/test/ig/Modified_45.jpg', 3), ('/tmp/content/Blood_Cell_Dataset_Small_Split/test/ig/PMY_189441.jpg', 3), ('/tmp/content/Blood_Cell_Dataset_Small_Split/test/ig/PMY_537229.jpg', 3), ('/tmp/content/Blood_Cell_Dataset_Small_Split/test/ig/PMY_635523.jpg', 3), ('/tmp/content/Blood_Cell_Dataset_Small_Split/test/ig/PMY_703530.jpg', 3), ('/tmp/content/Blood_Cell_Dataset_Small_Split/test/ig/PMY_924535.jpg', 3), ('/tmp/content/Blood_Cell_Dataset_Small_Split/test/lymphocyte/LY_163635.jpg', 4), ('/tmp/content/Blood_Cell_Dataset_Small_Split/test/lymphocyte/LY_193652.jpg', 4), ('/tmp/content/Blood_Cell_Dataset_Small_Split/test/lymphocyte/LY_325503.jpg', 4), ('/tmp/content/Blood_Cell_Dataset_Small_Split/test/lymphocyte/LY_400974.jpg', 4), ('/tmp/content/Blood_Cell_Dataset_Small_Split/test/lymphocyte/LY_432777.jpg', 4), ('/tmp/content/Blood_Cell_Dataset_Small_Split/test/lymphocyte/LY_539406.jpg', 4), ('/tmp/content/Blood_Cell_Dataset_Small_Split/test/lymphocyte/LY_554364.jpg', 4), ('/tmp/content/Blood_Cell_Dataset_Small_Split/test/lymphocyte/LY_636684.jpg', 4), ('/tmp/content/Blood_Cell_Dataset_Small_Split/test/lymphocyte/LY_665021.jpg', 4), ('/tmp/content/Blood_Cell_Dataset_Small_Split/test/lymphocyte/LY_736531.jpg', 4), ('/tmp/content/Blood_Cell_Dataset_Small_Split/test/lymphocyte/LY_824813.jpg', 4), ('/tmp/content/Blood_Cell_Dataset_Small_Split/test/lymphocyte/LY_872934.jpg', 4), ('/tmp/content/Blood_Cell_Dataset_Small_Split/test/lymphocyte/Modified_1091.jpg', 4), ('/tmp/content/Blood_Cell_Dataset_Small_Split/test/lymphocyte/Modified_136.jpg', 4), ('/tmp/content/Blood_Cell_Dataset_Small_Split/test/lymphocyte/Modified_1487.jpg', 4), ('/tmp/content/Blood_Cell_Dataset_Small_Split/test/lymphocyte/Modified_1520.jpg', 4), ('/tmp/content/Blood_Cell_Dataset_Small_Split/test/lymphocyte/Modified_1660.jpg', 4), ('/tmp/content/Blood_Cell_Dataset_Small_Split/test/lymphocyte/Modified_181.jpg', 4), ('/tmp/content/Blood_Cell_Dataset_Small_Split/test/lymphocyte/Modified_216.jpg', 4), ('/tmp/content/Blood_Cell_Dataset_Small_Split/test/lymphocyte/Modified_330.jpg', 4), ('/tmp/content/Blood_Cell_Dataset_Small_Split/test/lymphocyte/Modified_462.jpg', 4), ('/tmp/content/Blood_Cell_Dataset_Small_Split/test/lymphocyte/Modified_717.jpg', 4), ('/tmp/content/Blood_Cell_Dataset_Small_Split/test/lymphocyte/Modified_730.jpg', 4), ('/tmp/content/Blood_Cell_Dataset_Small_Split/test/lymphocyte/Modified_776.jpg', 4), ('/tmp/content/Blood_Cell_Dataset_Small_Split/test/lymphocyte/Modified_963.jpg', 4), ('/tmp/content/Blood_Cell_Dataset_Small_Split/test/monocyte/MO_115896.jpg', 5), ('/tmp/content/Blood_Cell_Dataset_Small_Split/test/monocyte/MO_168917.jpg', 5), ('/tmp/content/Blood_Cell_Dataset_Small_Split/test/monocyte/MO_236347.jpg', 5), ('/tmp/content/Blood_Cell_Dataset_Small_Split/test/monocyte/MO_30511.jpg', 5), ('/tmp/content/Blood_Cell_Dataset_Small_Split/test/monocyte/MO_391733.jpg', 5), ('/tmp/content/Blood_Cell_Dataset_Small_Split/test/monocyte/MO_468776.jpg', 5), ('/tmp/content/Blood_Cell_Dataset_Small_Split/test/monocyte/MO_48427.jpg', 5), ('/tmp/content/Blood_Cell_Dataset_Small_Split/test/monocyte/MO_540869.jpg', 5), ('/tmp/content/Blood_Cell_Dataset_Small_Split/test/monocyte/MO_558349.jpg', 5), ('/tmp/content/Blood_Cell_Dataset_Small_Split/test/monocyte/MO_613573.jpg', 5), ('/tmp/content/Blood_Cell_Dataset_Small_Split/test/monocyte/MO_706560.jpg', 5), ('/tmp/content/Blood_Cell_Dataset_Small_Split/test/monocyte/MO_776848.jpg', 5), ('/tmp/content/Blood_Cell_Dataset_Small_Split/test/monocyte/Modified_1000.jpg', 5), ('/tmp/content/Blood_Cell_Dataset_Small_Split/test/monocyte/Modified_1230.jpg', 5), ('/tmp/content/Blood_Cell_Dataset_Small_Split/test/monocyte/Modified_1391.jpg', 5), ('/tmp/content/Blood_Cell_Dataset_Small_Split/test/monocyte/Modified_1402.jpg', 5), ('/tmp/content/Blood_Cell_Dataset_Small_Split/test/monocyte/Modified_1497.jpg', 5), ('/tmp/content/Blood_Cell_Dataset_Small_Split/test/monocyte/Modified_195.jpg', 5), ('/tmp/content/Blood_Cell_Dataset_Small_Split/test/monocyte/Modified_245.jpg', 5), ('/tmp/content/Blood_Cell_Dataset_Small_Split/test/monocyte/Modified_355.jpg', 5), ('/tmp/content/Blood_Cell_Dataset_Small_Split/test/monocyte/Modified_514.jpg', 5), ('/tmp/content/Blood_Cell_Dataset_Small_Split/test/monocyte/Modified_801.jpg', 5), ('/tmp/content/Blood_Cell_Dataset_Small_Split/test/monocyte/Modified_824.jpg', 5), ('/tmp/content/Blood_Cell_Dataset_Small_Split/test/monocyte/Modified_870.jpg', 5), ('/tmp/content/Blood_Cell_Dataset_Small_Split/test/monocyte/Modified_964.jpg', 5), ('/tmp/content/Blood_Cell_Dataset_Small_Split/test/neutrophil/BNE_163974.jpg', 6), ('/tmp/content/Blood_Cell_Dataset_Small_Split/test/neutrophil/BNE_180631.jpg', 6), ('/tmp/content/Blood_Cell_Dataset_Small_Split/test/neutrophil/BNE_247190.jpg', 6), ('/tmp/content/Blood_Cell_Dataset_Small_Split/test/neutrophil/BNE_378921.jpg', 6), ('/tmp/content/Blood_Cell_Dataset_Small_Split/test/neutrophil/BNE_415268.jpg', 6), ('/tmp/content/Blood_Cell_Dataset_Small_Split/test/neutrophil/BNE_489422.jpg', 6), ('/tmp/content/Blood_Cell_Dataset_Small_Split/test/neutrophil/BNE_491493.jpg', 6), ('/tmp/content/Blood_Cell_Dataset_Small_Split/test/neutrophil/BNE_560375.jpg', 6), ('/tmp/content/Blood_Cell_Dataset_Small_Split/test/neutrophil/BNE_586172.jpg', 6), ('/tmp/content/Blood_Cell_Dataset_Small_Split/test/neutrophil/BNE_636142.jpg', 6), ('/tmp/content/Blood_Cell_Dataset_Small_Split/test/neutrophil/BNE_736774.jpg', 6), ('/tmp/content/Blood_Cell_Dataset_Small_Split/test/neutrophil/BNE_795618.jpg', 6), ('/tmp/content/Blood_Cell_Dataset_Small_Split/test/neutrophil/BNE_95275.jpg', 6), ('/tmp/content/Blood_Cell_Dataset_Small_Split/test/neutrophil/SNE_256595.jpg', 6), ('/tmp/content/Blood_Cell_Dataset_Small_Split/test/neutrophil/SNE_364066.jpg', 6), ('/tmp/content/Blood_Cell_Dataset_Small_Split/test/neutrophil/SNE_404231.jpg', 6), ('/tmp/content/Blood_Cell_Dataset_Small_Split/test/neutrophil/SNE_45775.jpg', 6), ('/tmp/content/Blood_Cell_Dataset_Small_Split/test/neutrophil/SNE_499841.jpg', 6), ('/tmp/content/Blood_Cell_Dataset_Small_Split/test/neutrophil/SNE_520928.jpg', 6), ('/tmp/content/Blood_Cell_Dataset_Small_Split/test/neutrophil/SNE_620737.jpg', 6), ('/tmp/content/Blood_Cell_Dataset_Small_Split/test/neutrophil/SNE_67724.jpg', 6), ('/tmp/content/Blood_Cell_Dataset_Small_Split/test/neutrophil/SNE_823486.jpg', 6), ('/tmp/content/Blood_Cell_Dataset_Small_Split/test/neutrophil/SNE_840546.jpg', 6), ('/tmp/content/Blood_Cell_Dataset_Small_Split/test/neutrophil/SNE_867897.jpg', 6), ('/tmp/content/Blood_Cell_Dataset_Small_Split/test/neutrophil/SNE_94795.jpg', 6), ('/tmp/content/Blood_Cell_Dataset_Small_Split/test/platelet/Modified_15.jpg', 7), ('/tmp/content/Blood_Cell_Dataset_Small_Split/test/platelet/Modified_217.jpg', 7), ('/tmp/content/Blood_Cell_Dataset_Small_Split/test/platelet/Modified_319.jpg', 7), ('/tmp/content/Blood_Cell_Dataset_Small_Split/test/platelet/Modified_467.jpg', 7), ('/tmp/content/Blood_Cell_Dataset_Small_Split/test/platelet/Modified_504.jpg', 7), ('/tmp/content/Blood_Cell_Dataset_Small_Split/test/platelet/Modified_604.jpg', 7), ('/tmp/content/Blood_Cell_Dataset_Small_Split/test/platelet/Modified_617.jpg', 7), ('/tmp/content/Blood_Cell_Dataset_Small_Split/test/platelet/PLATELET_128416.jpg', 7), ('/tmp/content/Blood_Cell_Dataset_Small_Split/test/platelet/PLATELET_142954.jpg', 7), ('/tmp/content/Blood_Cell_Dataset_Small_Split/test/platelet/PLATELET_171417.jpg', 7), ('/tmp/content/Blood_Cell_Dataset_Small_Split/test/platelet/PLATELET_215861.jpg', 7), ('/tmp/content/Blood_Cell_Dataset_Small_Split/test/platelet/PLATELET_266880.jpg', 7), ('/tmp/content/Blood_Cell_Dataset_Small_Split/test/platelet/PLATELET_351272.jpg', 7), ('/tmp/content/Blood_Cell_Dataset_Small_Split/test/platelet/PLATELET_506155.jpg', 7), ('/tmp/content/Blood_Cell_Dataset_Small_Split/test/platelet/PLATELET_565553.jpg', 7), ('/tmp/content/Blood_Cell_Dataset_Small_Split/test/platelet/PLATELET_577482.jpg', 7), ('/tmp/content/Blood_Cell_Dataset_Small_Split/test/platelet/PLATELET_606175.jpg', 7), ('/tmp/content/Blood_Cell_Dataset_Small_Split/test/platelet/PLATELET_641175.jpg', 7), ('/tmp/content/Blood_Cell_Dataset_Small_Split/test/platelet/PLATELET_670804.jpg', 7), ('/tmp/content/Blood_Cell_Dataset_Small_Split/test/platelet/PLATELET_731698.jpg', 7), ('/tmp/content/Blood_Cell_Dataset_Small_Split/test/platelet/PLATELET_797104.jpg', 7), ('/tmp/content/Blood_Cell_Dataset_Small_Split/test/platelet/PLATELET_902596.jpg', 7), ('/tmp/content/Blood_Cell_Dataset_Small_Split/test/platelet/PLATELET_914858.jpg', 7), ('/tmp/content/Blood_Cell_Dataset_Small_Split/test/platelet/PLATELET_928768.jpg', 7), ('/tmp/content/Blood_Cell_Dataset_Small_Split/test/platelet/PLATELET_982926.jpg', 7)]\n"
          ]
        }
      ]
    },
    {
      "cell_type": "code",
      "source": [
        "# do class checking for platelet (smaller than other cells), neutrophil (odd shape), basophil (normal)\n",
        "from torch.utils.data import DataLoader, Subset\n",
        "\n",
        "basophil_dset = Subset(test_data, range(0, 25))\n",
        "neutrophil_dset = Subset(test_data, range(150, 175))\n",
        "platelet_dset = Subset(test_data, range(175, 200))\n",
        "\n",
        "basophil_loader = torch.utils.data.DataLoader(basophil_dset, batch_size=10, num_workers=0, shuffle=True)\n",
        "neutrophil_loader = torch.utils.data.DataLoader(neutrophil_dset, batch_size=10, num_workers=0, shuffle=True)\n",
        "platelet_loader = torch.utils.data.DataLoader(platelet_dset, batch_size=10, num_workers=0, shuffle=True)\n",
        "\n",
        "print(len(basophil_dset))\n",
        "print(len(neutrophil_dset))\n",
        "print(len(platelet_dset))\n",
        "\n",
        "def get_accuracy_class(model, data):\n",
        "\n",
        "    correct = 0\n",
        "    total = 0\n",
        "    for feature in data:\n",
        "        #feature[0] is the features extracted, features[1] is the label\n",
        "        output = model(feature[0])\n",
        "        \n",
        "        #select index with maximum prediction score\n",
        "        pred = output.max(1, keepdim=True)[1]\n",
        "        correct += pred.eq(feature[1].view_as(pred)).sum().item()\n",
        "        total += feature[0].shape[0]\n",
        "    return correct / total\n",
        "\n",
        "basophil_features = []\n",
        "\n",
        "for i in enumerate(basophil_loader, 0):\n",
        "  dataiter = iter(basophil_loader)\n",
        "  images, labels = next(dataiter)\n",
        "  # images = images.cuda()\n",
        "  # labels = labels.cuda()\n",
        "  basophil_features.append([convalexnet(images), labels])\n",
        "\n",
        "neutrophil_features = []\n",
        "\n",
        "for i in enumerate(neutrophil_loader, 0):\n",
        "  dataiter = iter(neutrophil_loader)\n",
        "  images, labels = next(dataiter)\n",
        "  # images = images.cuda()\n",
        "  # labels = labels.cuda()\n",
        "  neutrophil_features.append([convalexnet(images), labels])\n",
        "\n",
        "platelet_features = []\n",
        "\n",
        "for i in enumerate(platelet_loader, 0):\n",
        "  dataiter = iter(platelet_loader)\n",
        "  images, labels = next(dataiter)\n",
        "  # images = images.cuda()\n",
        "  # labels = labels.cuda()\n",
        "  platelet_features.append([convalexnet(images), labels])\n",
        "\n",
        "b_acc = get_accuracy_class(cnntest_four, basophil_features)\n",
        "n_acc = get_accuracy_class(cnntest_four, neutrophil_features)\n",
        "p_acc = get_accuracy_class(cnntest_four, platelet_features)\n",
        "\n",
        "print(\"Basophil Test Accuracy:\", b_acc)\n",
        "print(\"Neutrophil Test Accuracy:\", n_acc)\n",
        "print(\"Platelet Test Accuracy:\", p_acc)"
      ],
      "metadata": {
        "colab": {
          "base_uri": "https://localhost:8080/"
        },
        "id": "olKmrxS3oXuG",
        "outputId": "a71511c4-e03b-4e9e-e447-14c99e1450b8"
      },
      "execution_count": 40,
      "outputs": [
        {
          "output_type": "stream",
          "name": "stdout",
          "text": [
            "25\n",
            "25\n",
            "25\n",
            "Basophil Test Accuracy: 0.9333333333333333\n",
            "Neutrophil Test Accuracy: 0.9\n",
            "Platelet Test Accuracy: 1.0\n"
          ]
        }
      ]
    },
    {
      "cell_type": "markdown",
      "source": [
        "### Extra Material - Needs Fixing"
      ],
      "metadata": {
        "id": "sWX9LJvIGCzs"
      }
    },
    {
      "cell_type": "code",
      "source": [
        "class primary_model(nn.Module):\n",
        "  def __init__(self, input_size, hidden_size, num_class):\n",
        "    super(primary_model, self).__init__()\n",
        "    self\n",
        "    # write parallel RNN branch\n",
        "    self.hidden_size = hidden_size\n",
        "    self.rnn = nn.GRU(input_size, hidden_size, batch_first=True) # keep the original plan from proposal and use GRUs?\n",
        "    self.fc = nn.Linear(hidden_size, num_class)\n",
        "  def forward(self, x):\n",
        "    # Set the initial hidden states\n",
        "    h0 = torch.zeros(1, x.size(0), self.hidden_size)\n",
        "    # Forward propagate the RNN\n",
        "    out, __ = self.rnn(x, h0)\n",
        "    # Pass the output of the last step to the classifier\n",
        "    return self.fc(out[:,-1,:])"
      ],
      "metadata": {
        "id": "sNdO4d_QL5a8"
      },
      "execution_count": null,
      "outputs": []
    },
    {
      "cell_type": "code",
      "source": [
        "class test(nn.Module):\n",
        "    def __init__(self, input_size, hidden_size, num_class):\n",
        "        super(test, self).__init__()\n",
        "        self.fc = nn.Linear(512 *8*8 + hidden_size, num_class) #temp sizes, idk what the dimensions should be\n",
        "        #also how many classes are there?\n",
        "        self.rnn = nn.RNN(input_size, hidden_size, batch_first=True)\n",
        "        self.hidden_size = hidden_size\n",
        "    def forward(self, x):\n",
        "        cnnpath = convgg16(x)\n",
        "        cnnpath = torch.flatten(cnnpath, 1) #x = x.view(-1, 512*8*8) #maybe this one? but idk dimensions\n",
        "        \n",
        "        x = torch.flatten(x, 2,3) #x.view(-1, 78400) #2352000?\n",
        "        x = x.permute(1, 0, 2) \n",
        "        h0 = torch.zeros(1, len(x), self.hidden_size)\n",
        "        if use_cuda:\n",
        "          h0.cuda()\n",
        "        #print(\"test\",x.size(dim=0), x.dim)\n",
        "        #print(h0.size, h0.dim)\n",
        "        rnnpath, __=self.rnn(x, h0)\n",
        "        rnnpath = rnnpath[:,-1,:]\n",
        "        #rnnpath = torch.flatten(rnnpath)\n",
        "        #print(cnnpath.size(0))\n",
        "        #print(rnnpath.size(0))\n",
        "        #rnnpath = rnnpath.reshape((10, 32768))\n",
        "        merged = torch.stack((cnnpath,rnnpath.view_as(cnnpath)))\n",
        "        merged = torch.flatten(merged)\n",
        "\n",
        "        x=self.fc(merged)\n",
        "        return x"
      ],
      "metadata": {
        "id": "ZiNgL3V8_h9_"
      },
      "execution_count": null,
      "outputs": []
    },
    {
      "cell_type": "code",
      "source": [
        "test_model = test(78400, 64, 8)"
      ],
      "metadata": {
        "id": "gV0v0ulOCrcJ"
      },
      "execution_count": null,
      "outputs": []
    },
    {
      "cell_type": "code",
      "source": [
        "#accuracy function??\n",
        "\n",
        "def get_accuracy(model, train):\n",
        "    correct = 0\n",
        "    total = 0\n",
        "\n",
        "    if train == True:\n",
        "      data_loader = train_loader\n",
        "    else:\n",
        "      data_loader = val_loader\n",
        "\n",
        "    for imgs, labels in data_loader:\n",
        "        #############################################\n",
        "        #To Enable GPU Usage\n",
        "        if use_cuda and torch.cuda.is_available():\n",
        "          imgs = imgs.cuda()\n",
        "          labels = labels.cuda()\n",
        "          \n",
        "        #############################################\n",
        "        output = model(imgs)\n",
        "        \n",
        "        #select index with maximum prediction score\n",
        "        pred = output.max(1, keepdim=True)[1] #idk if model will give probability of the classes or what\n",
        "        correct += pred.eq(labels.view_as(pred)).sum().item() #do we need to apply soft max??\n",
        "        total += imgs.shape[0]\n",
        "    return correct / total"
      ],
      "metadata": {
        "id": "NBKE9xb4CgVu"
      },
      "execution_count": null,
      "outputs": []
    },
    {
      "cell_type": "code",
      "source": [
        "get_accuracy(test_model,test_loader)"
      ],
      "metadata": {
        "colab": {
          "base_uri": "https://localhost:8080/",
          "height": 311
        },
        "id": "jn7FqQkHDp72",
        "outputId": "57f342ed-33b1-4743-dd94-7370885928a7"
      },
      "execution_count": null,
      "outputs": [
        {
          "output_type": "error",
          "ename": "RuntimeError",
          "evalue": "ignored",
          "traceback": [
            "\u001b[0;31m---------------------------------------------------------------------------\u001b[0m",
            "\u001b[0;31mRuntimeError\u001b[0m                              Traceback (most recent call last)",
            "\u001b[0;32m<ipython-input-41-6adaa900f8c5>\u001b[0m in \u001b[0;36m<module>\u001b[0;34m\u001b[0m\n\u001b[0;32m----> 1\u001b[0;31m \u001b[0mget_accuracy\u001b[0m\u001b[0;34m(\u001b[0m\u001b[0mtest_model\u001b[0m\u001b[0;34m,\u001b[0m\u001b[0mtest_loader\u001b[0m\u001b[0;34m)\u001b[0m\u001b[0;34m\u001b[0m\u001b[0;34m\u001b[0m\u001b[0m\n\u001b[0m",
            "\u001b[0;32m<ipython-input-37-b98b7cc76b2b>\u001b[0m in \u001b[0;36mget_accuracy\u001b[0;34m(model, data_loader)\u001b[0m\n\u001b[1;32m     12\u001b[0m \u001b[0;34m\u001b[0m\u001b[0m\n\u001b[1;32m     13\u001b[0m         \u001b[0;31m#############################################\u001b[0m\u001b[0;34m\u001b[0m\u001b[0;34m\u001b[0m\u001b[0m\n\u001b[0;32m---> 14\u001b[0;31m         \u001b[0moutput\u001b[0m \u001b[0;34m=\u001b[0m \u001b[0mmodel\u001b[0m\u001b[0;34m(\u001b[0m\u001b[0mimgs\u001b[0m\u001b[0;34m)\u001b[0m\u001b[0;34m\u001b[0m\u001b[0;34m\u001b[0m\u001b[0m\n\u001b[0m\u001b[1;32m     15\u001b[0m \u001b[0;34m\u001b[0m\u001b[0m\n\u001b[1;32m     16\u001b[0m         \u001b[0;31m#select index with maximum prediction score\u001b[0m\u001b[0;34m\u001b[0m\u001b[0;34m\u001b[0m\u001b[0m\n",
            "\u001b[0;32m/usr/local/lib/python3.9/dist-packages/torch/nn/modules/module.py\u001b[0m in \u001b[0;36m_call_impl\u001b[0;34m(self, *input, **kwargs)\u001b[0m\n\u001b[1;32m   1192\u001b[0m         if not (self._backward_hooks or self._forward_hooks or self._forward_pre_hooks or _global_backward_hooks\n\u001b[1;32m   1193\u001b[0m                 or _global_forward_hooks or _global_forward_pre_hooks):\n\u001b[0;32m-> 1194\u001b[0;31m             \u001b[0;32mreturn\u001b[0m \u001b[0mforward_call\u001b[0m\u001b[0;34m(\u001b[0m\u001b[0;34m*\u001b[0m\u001b[0minput\u001b[0m\u001b[0;34m,\u001b[0m \u001b[0;34m**\u001b[0m\u001b[0mkwargs\u001b[0m\u001b[0;34m)\u001b[0m\u001b[0;34m\u001b[0m\u001b[0;34m\u001b[0m\u001b[0m\n\u001b[0m\u001b[1;32m   1195\u001b[0m         \u001b[0;31m# Do not call functions when jit is used\u001b[0m\u001b[0;34m\u001b[0m\u001b[0;34m\u001b[0m\u001b[0m\n\u001b[1;32m   1196\u001b[0m         \u001b[0mfull_backward_hooks\u001b[0m\u001b[0;34m,\u001b[0m \u001b[0mnon_full_backward_hooks\u001b[0m \u001b[0;34m=\u001b[0m \u001b[0;34m[\u001b[0m\u001b[0;34m]\u001b[0m\u001b[0;34m,\u001b[0m \u001b[0;34m[\u001b[0m\u001b[0;34m]\u001b[0m\u001b[0;34m\u001b[0m\u001b[0;34m\u001b[0m\u001b[0m\n",
            "\u001b[0;32m<ipython-input-39-dfd115cc9f99>\u001b[0m in \u001b[0;36mforward\u001b[0;34m(self, x)\u001b[0m\n\u001b[1;32m     23\u001b[0m         \u001b[0;31m#print(rnnpath.size(0))\u001b[0m\u001b[0;34m\u001b[0m\u001b[0;34m\u001b[0m\u001b[0m\n\u001b[1;32m     24\u001b[0m         \u001b[0;31m#rnnpath = rnnpath.reshape((10, 32768))\u001b[0m\u001b[0;34m\u001b[0m\u001b[0;34m\u001b[0m\u001b[0m\n\u001b[0;32m---> 25\u001b[0;31m         \u001b[0mmerged\u001b[0m \u001b[0;34m=\u001b[0m \u001b[0mtorch\u001b[0m\u001b[0;34m.\u001b[0m\u001b[0mstack\u001b[0m\u001b[0;34m(\u001b[0m\u001b[0;34m(\u001b[0m\u001b[0mcnnpath\u001b[0m\u001b[0;34m,\u001b[0m\u001b[0mrnnpath\u001b[0m\u001b[0;34m.\u001b[0m\u001b[0mview_as\u001b[0m\u001b[0;34m(\u001b[0m\u001b[0mcnnpath\u001b[0m\u001b[0;34m)\u001b[0m\u001b[0;34m)\u001b[0m\u001b[0;34m)\u001b[0m\u001b[0;34m\u001b[0m\u001b[0;34m\u001b[0m\u001b[0m\n\u001b[0m\u001b[1;32m     26\u001b[0m         \u001b[0mmerged\u001b[0m \u001b[0;34m=\u001b[0m \u001b[0mtorch\u001b[0m\u001b[0;34m.\u001b[0m\u001b[0mflatten\u001b[0m\u001b[0;34m(\u001b[0m\u001b[0mmerged\u001b[0m\u001b[0;34m)\u001b[0m\u001b[0;34m\u001b[0m\u001b[0;34m\u001b[0m\u001b[0m\n\u001b[1;32m     27\u001b[0m \u001b[0;34m\u001b[0m\u001b[0m\n",
            "\u001b[0;31mRuntimeError\u001b[0m: shape '[10, 32768]' is invalid for input of size 192"
          ]
        }
      ]
    },
    {
      "cell_type": "code",
      "source": [
        "get_accuracy(cnntest, test_loader)"
      ],
      "metadata": {
        "colab": {
          "base_uri": "https://localhost:8080/"
        },
        "id": "UWIOlryHRrsP",
        "outputId": "b783e626-d3d4-4a45-a7e3-5c4bd6bf972d"
      },
      "execution_count": null,
      "outputs": [
        {
          "output_type": "execute_result",
          "data": {
            "text/plain": [
              "0.02"
            ]
          },
          "metadata": {},
          "execution_count": 46
        }
      ]
    },
    {
      "cell_type": "code",
      "source": [
        "import matplotlib.pyplot as plt\n",
        "\n",
        "def train(model, data, batch_size, learning_rate, num_epochs):\n",
        "    train_loader = torch.utils.data.DataLoader(data, batch_size=batch_size)\n",
        "    criterion = nn.CrossEntropyLoss()\n",
        "    optimizer = optim.SGD(model.parameters(), lr=learning_rate, momentum=0.9)\n",
        "\n",
        "    iters, losses, train_acc, val_acc = [], [], [], []\n",
        "\n",
        "    # training\n",
        "    n = 0 # the number of iterations\n",
        "    for epoch in range(num_epochs):\n",
        "        for imgs, labels in iter(train_loader):\n",
        "\n",
        "            #############################################\n",
        "            # To Enable GPU Usage\n",
        "            if use_cuda and torch.cuda.is_available():\n",
        "              imgs = imgs.cuda()\n",
        "              labels = labels.cuda()\n",
        "            #############################################\n",
        "              \n",
        "            out = model(imgs)             # forward pass\n",
        "\n",
        "            loss = criterion(out, labels) # compute the total loss\n",
        "            loss.backward()               # backward pass (compute parameter updates)\n",
        "            optimizer.step()              # make the updates for each parameter\n",
        "            optimizer.zero_grad()         # a clean up step for PyTorch\n",
        "\n",
        "            # save the current training information\n",
        "            iters.append(n)\n",
        "            losses.append(float(loss)/batch_size)             # compute *average* loss\n",
        "            train_acc.append(get_accuracy(model, train=True)) # compute training accuracy \n",
        "            val_acc.append(get_accuracy(model, train=False))  # compute validation accuracy\n",
        "            n += 1\n",
        "        print((f\"Epoch {epoch + 1}: Train acc: {train_acc[-1]}\"))\n",
        "    \n",
        "\n",
        "    # plotting\n",
        "    plt.title(\"Training Curve\")\n",
        "    plt.plot(iters, losses, label=\"Train\")\n",
        "    plt.xlabel(\"Iterations\")\n",
        "    plt.ylabel(\"Loss\")\n",
        "    plt.show()\n",
        "\n",
        "    plt.title(\"Training Curve\")\n",
        "    plt.plot(iters, train_acc, label=\"Train\")\n",
        "    plt.plot(iters, val_acc, label=\"Validation\")\n",
        "    plt.xlabel(\"Iterations\")\n",
        "    plt.ylabel(\"Training Accuracy\")\n",
        "    plt.legend(loc='best')\n",
        "    plt.show()\n",
        "\n",
        "    print(\"Final Training Accuracy: {}\".format(train_acc[-1]))\n",
        "    print(\"Final Validation Accuracy: {}\".format(val_acc[-1]))"
      ],
      "metadata": {
        "id": "0EpUJ5NMSm_k"
      },
      "execution_count": 15,
      "outputs": []
    }
  ]
}